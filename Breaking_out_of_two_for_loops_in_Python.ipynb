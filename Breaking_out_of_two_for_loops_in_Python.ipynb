{
  "nbformat": 4,
  "nbformat_minor": 0,
  "metadata": {
    "colab": {
      "name": "Breaking out of two for loops in Python",
      "provenance": [],
      "authorship_tag": "ABX9TyPmLT/sJVNyNYxIb/pSMiqL",
      "include_colab_link": true
    },
    "kernelspec": {
      "name": "python3",
      "display_name": "Python 3"
    }
  },
  "cells": [
    {
      "cell_type": "markdown",
      "metadata": {
        "id": "view-in-github",
        "colab_type": "text"
      },
      "source": [
        "<a href=\"https://colab.research.google.com/github/retrosnob/Jupyter-Notebooks/blob/master/Breaking_out_of_two_for_loops_in_Python.ipynb\" target=\"_parent\"><img src=\"https://colab.research.google.com/assets/colab-badge.svg\" alt=\"Open In Colab\"/></a>"
      ]
    },
    {
      "cell_type": "markdown",
      "metadata": {
        "id": "5Y9ZXRRABEpA",
        "colab_type": "text"
      },
      "source": [
        "#Breaking out of two for loops in Python\n",
        "\n",
        "We want to search a list of lists for a specific value using nested loops. When we find the first occurrence of the value we want to break out of both loops.\n",
        "\n",
        "The following code doesn't work because we only break out of the inner loop and so continue to find the second occurrence of the value."
      ]
    },
    {
      "cell_type": "code",
      "metadata": {
        "colab_type": "code",
        "outputId": "e8aba66a-9326-4153-e1d3-77a81806ca23",
        "id": "zvfMqwBx9IR2",
        "colab": {
          "base_uri": "https://localhost:8080/",
          "height": 51
        }
      },
      "source": [
        "outer = [\n",
        "  [1, 2, 3],\n",
        "  [1, 888, 3],\n",
        "  [1, 2, 888],\n",
        "  [1, 2, 3]\n",
        "]\n",
        "\n",
        "for inner in outer:\n",
        "  for value in inner:\n",
        "    if value == 888:\n",
        "      print('found it')\n",
        "      break"
      ],
      "execution_count": 0,
      "outputs": [
        {
          "output_type": "stream",
          "text": [
            "found it\n",
            "found it\n"
          ],
          "name": "stdout"
        }
      ]
    },
    {
      "cell_type": "markdown",
      "metadata": {
        "id": "VjhzOAYf8trt",
        "colab_type": "text"
      },
      "source": [
        "The following code does what we want, althought the syntax isn't the clearest. The key to understanding it is knowing that an else clause in a for loop runs only when its corresponding for loop has run all the way through without a break statement being invoked. "
      ]
    },
    {
      "cell_type": "code",
      "metadata": {
        "id": "HKbcJ7O-8EhS",
        "colab_type": "code",
        "colab": {
          "base_uri": "https://localhost:8080/",
          "height": 51
        },
        "outputId": "e2895625-6f83-43ef-a87f-69f4987104b6"
      },
      "source": [
        "outer = [\n",
        "  [1, 2, 3],\n",
        "  [1, 888, 3],\n",
        "  [1, 2, 888],\n",
        "  [1, 2, 3]\n",
        "]\n",
        "\n",
        "for inner in outer:\n",
        "  for value in inner:\n",
        "    if value == 888:\n",
        "      print('found it')\n",
        "      break\n",
        "  else:\n",
        "    continue\n",
        "  break"
      ],
      "execution_count": 2,
      "outputs": [
        {
          "output_type": "stream",
          "text": [
            "found it\n",
            "found it\n"
          ],
          "name": "stdout"
        }
      ]
    },
    {
      "cell_type": "markdown",
      "metadata": {
        "id": "eH5UcnDk86KQ",
        "colab_type": "text"
      },
      "source": [
        "In this simplified example we expect the else clause to run since we don't break out of the for loop."
      ]
    },
    {
      "cell_type": "code",
      "metadata": {
        "id": "BS-YDgTi_huU",
        "colab_type": "code",
        "colab": {
          "base_uri": "https://localhost:8080/",
          "height": 204
        },
        "outputId": "366b55e4-3fec-4ce2-a4e7-143aff835ce9"
      },
      "source": [
        "for i in range(10):\n",
        "  print(i)\n",
        "else:\n",
        "  print('Else clause')"
      ],
      "execution_count": 3,
      "outputs": [
        {
          "output_type": "stream",
          "text": [
            "0\n",
            "1\n",
            "2\n",
            "3\n",
            "4\n",
            "5\n",
            "6\n",
            "7\n",
            "8\n",
            "9\n",
            "Else clause\n"
          ],
          "name": "stdout"
        }
      ]
    },
    {
      "cell_type": "markdown",
      "metadata": {
        "id": "o9bU3DCr_4rw",
        "colab_type": "text"
      },
      "source": [
        "In this example, however, we will break out of the for loop when i == 5 and so we should not expect the else clause to run."
      ]
    },
    {
      "cell_type": "code",
      "metadata": {
        "colab_type": "code",
        "outputId": "95a34c1e-cadc-4375-c8e1-28e49cd154e4",
        "id": "al6VtkRsADTJ",
        "colab": {
          "base_uri": "https://localhost:8080/",
          "height": 119
        }
      },
      "source": [
        "for i in range(10):\n",
        "  print(i)\n",
        "  if i == 5:\n",
        "    break\n",
        "else:\n",
        "  print('Else clause')"
      ],
      "execution_count": 4,
      "outputs": [
        {
          "output_type": "stream",
          "text": [
            "0\n",
            "1\n",
            "2\n",
            "3\n",
            "4\n",
            "5\n"
          ],
          "name": "stdout"
        }
      ]
    },
    {
      "cell_type": "markdown",
      "metadata": {
        "id": "_govV6k0APwu",
        "colab_type": "text"
      },
      "source": [
        "So in the working example, if we don't find the value we're looking for then we don't break out of our first loop and hence the else clause runs. Since it contains a continue statement we resume the outer loop immediately, continuing our search for the value and avoiding the following break statement.\n",
        "\n",
        "When we find the value however, we break out of the inner loop and so the avoid the else clause. This means we go on to execute the remaining statements in the outer loop and since there is only one and it's a break statement we break out of both loops."
      ]
    }
  ]
}