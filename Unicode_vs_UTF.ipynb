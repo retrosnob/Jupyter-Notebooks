{
  "nbformat": 4,
  "nbformat_minor": 0,
  "metadata": {
    "kernelspec": {
      "display_name": "Python 3",
      "language": "python",
      "name": "python3"
    },
    "language_info": {
      "codemirror_mode": {
        "name": "ipython",
        "version": 3
      },
      "file_extension": ".py",
      "mimetype": "text/x-python",
      "name": "python",
      "nbconvert_exporter": "python",
      "pygments_lexer": "ipython3",
      "version": "3.7.3"
    },
    "colab": {
      "name": "Unicode vs UTF",
      "provenance": [],
      "collapsed_sections": [],
      "include_colab_link": true
    }
  },
  "cells": [
    {
      "cell_type": "markdown",
      "metadata": {
        "id": "view-in-github",
        "colab_type": "text"
      },
      "source": [
        "<a href=\"https://colab.research.google.com/github/retrosnob/Jupyter-Notebooks/blob/master/Unicode_vs_UTF.ipynb\" target=\"_parent\"><img src=\"https://colab.research.google.com/assets/colab-badge.svg\" alt=\"Open In Colab\"/></a>"
      ]
    },
    {
      "cell_type": "markdown",
      "metadata": {
        "colab_type": "text",
        "id": "d2fa6ESSAjx4"
      },
      "source": [
        "# Unicode vs UTF\n",
        "\n",
        "## Unicode is a character set that associates numbers with characters.\n",
        "\n",
        "* Unicode is a standard that associates numbers with characters. There are 1,114,111 possible Unicode characters. At the moment only about 10% are actually used. \n",
        "* The Unicode standard explicitly separates the identity of a character (its *code point*, ie the number used to represent it) from its encoding (its *byte representation*, ie how the number happens to be represented in any given system).\n",
        "\n",
        "## UTF-8 is one way of expressing those numbers in bytes.\n",
        "\n",
        "* UTF-8 and UTF-16 are different *encodings*, not *character sets*. They are each responsible for converting code points to bytes and they do it in different ways. \n",
        "* UTF-8 is by far the commonest encoding for text on the web.\n",
        "* The Unicode standard includes UTF-8 and UTF-16 as two of the different ways of encoding characters."
      ]
    },
    {
      "cell_type": "markdown",
      "metadata": {
        "id": "pNwbJS8Sntgf",
        "colab_type": "text"
      },
      "source": [
        "### UTF-8 Format"
      ]
    },
    {
      "cell_type": "markdown",
      "metadata": {
        "id": "8HuLboiCntgg",
        "colab_type": "text"
      },
      "source": [
        "| No. bytes | No. bits per code point   | Byte 1| Byte 2| Byte 3| Byte 4|Used for|\n",
        "|------|------|---|---|---|---|---|\n",
        "|   1  | 7 |0xxxxxxx||||ASCII|\n",
        "|   2  | 11|110xxxxx|10xxxxxx|||All Latin alphabets plus Greek, Cyrillic, Arabic, etc.|\n",
        "|   3  | 16|1110xxxx|10xxxxxx|10xxxxxx||Chinese, Japanese, Korean, etc.|\n",
        "|   4  | 21|11110xxx|10xxxxxx|10xxxxxx|10xxxxxx|Mathematical symbols, emojis, etc.|"
      ]
    },
    {
      "cell_type": "markdown",
      "metadata": {
        "id": "RKyTFWEYntgg",
        "colab_type": "text"
      },
      "source": [
        "* UTF-8 is a variable length encoding. ASCII characters required one byte (this was implemented for backwards compatibility with ASCII).\n",
        "\n",
        "* It \"knows\" how many bytes are being used for the current character by the leading bits. E.g. Anything that starts with 0 is a 1-byte ASCII character, anything that starts with 11110 is a 4-byte character.\n",
        "\n",
        "* All UTF-8 bytes begin with 0, 10 or 11. Any that begin with 0 or 11 are the first byte of a sequence. Any that begin 10 are not the first byte of a sequence. Being able to tell this helps in increase the reliabilty of data transmission and sequencing."
      ]
    },
    {
      "cell_type": "markdown",
      "metadata": {
        "id": "TS0QAW0Dntgh",
        "colab_type": "text"
      },
      "source": [
        "### Examples"
      ]
    },
    {
      "cell_type": "markdown",
      "metadata": {
        "id": "bVBjAYUxntgh",
        "colab_type": "text"
      },
      "source": [
        "A Thai character: ล  (LO LING)\n"
      ]
    },
    {
      "cell_type": "markdown",
      "metadata": {
        "id": "HUi5B7I6ntgn",
        "colab_type": "text"
      },
      "source": [
        "Code point in decimal:"
      ]
    },
    {
      "cell_type": "code",
      "metadata": {
        "scrolled": true,
        "id": "vO989VnAntgo",
        "colab_type": "code",
        "outputId": "1d92b168-075d-4ea7-9106-b7a36428809f",
        "colab": {
          "base_uri": "https://localhost:8080/",
          "height": 34
        }
      },
      "source": [
        "ord('ล') "
      ],
      "execution_count": 0,
      "outputs": [
        {
          "output_type": "execute_result",
          "data": {
            "text/plain": [
              "3621"
            ]
          },
          "metadata": {
            "tags": []
          },
          "execution_count": 45
        }
      ]
    },
    {
      "cell_type": "markdown",
      "metadata": {
        "id": "oVdW_lnOntgi",
        "colab_type": "text"
      },
      "source": [
        "Code point in hexadecimal\""
      ]
    },
    {
      "cell_type": "code",
      "metadata": {
        "id": "q8saRweVntgj",
        "colab_type": "code",
        "outputId": "c512f519-bb10-44a7-dd26-ad5a759c65c0",
        "colab": {
          "base_uri": "https://localhost:8080/",
          "height": 34
        }
      },
      "source": [
        "hex(ord('ล'))"
      ],
      "execution_count": 0,
      "outputs": [
        {
          "output_type": "execute_result",
          "data": {
            "text/plain": [
              "'0xe25'"
            ]
          },
          "metadata": {
            "tags": []
          },
          "execution_count": 46
        }
      ]
    },
    {
      "cell_type": "markdown",
      "metadata": {
        "id": "d-yZ0c6bntgr",
        "colab_type": "text"
      },
      "source": [
        "\n",
        "\n",
        "Code point in binary:"
      ]
    },
    {
      "cell_type": "code",
      "metadata": {
        "id": "rgTcE7PNntgs",
        "colab_type": "code",
        "outputId": "5a4a766b-dea0-4205-8a08-2c058d1becd7",
        "colab": {
          "base_uri": "https://localhost:8080/",
          "height": 34
        }
      },
      "source": [
        "f'{ord(\"ล\"):b}'"
      ],
      "execution_count": 0,
      "outputs": [
        {
          "output_type": "execute_result",
          "data": {
            "text/plain": [
              "'111000100101'"
            ]
          },
          "metadata": {
            "tags": []
          },
          "execution_count": 47
        }
      ]
    },
    {
      "cell_type": "markdown",
      "metadata": {
        "id": "jFOHYDRuntgu",
        "colab_type": "text"
      },
      "source": [
        "Notice how the ord() function only gives the code point, not the full byte encoding. Let's look at the bytes themselves:"
      ]
    },
    {
      "cell_type": "code",
      "metadata": {
        "id": "emb4otJ3ntgy",
        "colab_type": "code",
        "outputId": "c8925c0e-b0c3-4526-c791-9d8ecbd99039",
        "colab": {
          "base_uri": "https://localhost:8080/",
          "height": 34
        }
      },
      "source": [
        "f'{int(\"ล\".encode(\"utf-8\").hex(), 16):b}'"
      ],
      "execution_count": 0,
      "outputs": [
        {
          "output_type": "execute_result",
          "data": {
            "text/plain": [
              "'111000001011100010100101'"
            ]
          },
          "metadata": {
            "tags": []
          },
          "execution_count": 48
        }
      ]
    },
    {
      "cell_type": "markdown",
      "metadata": {
        "id": "YXMTGoe3ntg0",
        "colab_type": "text"
      },
      "source": [
        "|Byte 1| Byte 2| Byte 3|\n",
        "|---|---|---|\n",
        "|1110 <font color='blue'><b>0110</b></font>|10<font color='blue'><b>110001</b></font>|10<font color='blue'><b>001001</b></font>|"
      ]
    },
    {
      "cell_type": "markdown",
      "metadata": {
        "id": "kBMEpnLT51Dn",
        "colab_type": "text"
      },
      "source": [
        "Here you can enter any character and see its code point and its byte encoding in UTF-8. Some characters to try:\n",
        "\n",
        "* Ж - Cyrillic letter Zhe (2 bytes)\n",
        "* ℕ - Natural numbers set symbol (3 bytes)\n",
        "* 😱 - Scream emoji (4 bytes)"
      ]
    },
    {
      "cell_type": "code",
      "metadata": {
        "id": "RYkDorSD58tv",
        "colab_type": "code",
        "outputId": "ba90fe26-cb77-45bd-8f4d-5640a25494dd",
        "colab": {
          "base_uri": "https://localhost:8080/",
          "height": 221
        }
      },
      "source": [
        "c = input('Enter a single character: ')\n",
        "print()\n",
        "print(f'Character: {c}')\n",
        "print()\n",
        "print('Code point')\n",
        "print(f'Hex: {hex(ord(c))}')\n",
        "print(f'Dec: {ord(c)}')\n",
        "print(f'Bin: {ord(c):b}')\n",
        "print()\n",
        "print('UTF-8 encoding')\n",
        "bytesobj = c.encode(\"utf-8\")\n",
        "print(f'{int(bytesobj.hex(), 16):08b}')\n",
        "print(f'Number of bytes: {len(bytesobj)}')"
      ],
      "execution_count": 0,
      "outputs": [
        {
          "output_type": "stream",
          "text": [
            "Enter a single character: ล\n",
            "\n",
            "Character: ล\n",
            "\n",
            "Code point\n",
            "Hex: 0xe25\n",
            "Dec: 3621\n",
            "Bin: 111000100101\n",
            "\n",
            "UTF-8 encoding\n",
            "111000001011100010100101\n",
            "Number of bytes: 3\n"
          ],
          "name": "stdout"
        }
      ]
    }
  ]
}